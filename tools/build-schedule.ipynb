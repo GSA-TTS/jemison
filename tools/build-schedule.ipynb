{
 "cells": [
  {
   "cell_type": "code",
   "execution_count": 49,
   "metadata": {},
   "outputs": [],
   "source": [
    "import json\n",
    "import pandas as pd\n",
    "from pprint import pprint"
   ]
  },
  {
   "cell_type": "code",
   "execution_count": 50,
   "metadata": {},
   "outputs": [],
   "source": [
    "url_counts = pd.read_csv(\"url-counts.csv\")\n",
    "redirects = pd.read_csv(\"get-redirects.csv\")"
   ]
  },
  {
   "cell_type": "markdown",
   "metadata": {},
   "source": [
    "The url-counts are\n",
    "\n",
    "`url,count`\n",
    "\n",
    "The redirects are\n",
    "\n",
    "`url,redirected,status`\n",
    "\n",
    "There will be duplicate `url`s in the second file; for now, I only want to work with the 200s.\n",
    "\n",
    "I added the headers by hand."
   ]
  },
  {
   "cell_type": "code",
   "execution_count": 51,
   "metadata": {},
   "outputs": [],
   "source": [
    "# https://pandas.pydata.org/docs/getting_started/intro_tutorials/08_combine_dataframes.html\n",
    "combo = pd.merge(url_counts, redirects, how=\"left\", on=\"url\")"
   ]
  },
  {
   "cell_type": "code",
   "execution_count": 52,
   "metadata": {},
   "outputs": [],
   "source": [
    "filtered = combo.loc[combo['status'] == 200]"
   ]
  },
  {
   "cell_type": "markdown",
   "metadata": {},
   "source": [
    "Now, I want to build the schedule\n",
    "\n",
    "```\n",
    "{\n",
    "  \"weekly\": [ ... ],\n",
    "\n",
    "}\n",
    "```"
   ]
  },
  {
   "cell_type": "code",
   "execution_count": 53,
   "metadata": {},
   "outputs": [],
   "source": [
    "schedule = {}\n",
    "\n",
    "ranges = [[\"weekly\", 0, 50_000],\n",
    "          [\"bi-weekly\", 50_000, 100_000],\n",
    "          [\"monthly\", 100_000,500_000],\n",
    "          [\"quarterly\", 500_000,5_000_000]\n",
    "          ]\n",
    "\n",
    "for r in ranges:\n",
    "  schedule[r[0]] = filtered.loc[(filtered['count'] > r[1]) & (filtered['count'] <= r[2])][\"url\"].to_list()"
   ]
  },
  {
   "cell_type": "code",
   "execution_count": 59,
   "metadata": {},
   "outputs": [],
   "source": [
    "expanded = {}\n",
    "for cat, ls in schedule.items():\n",
    "  expanded[cat] = [{\"scheme\": \"https\", \"host\": url, \"path\": \"/\"} for url in ls]\n"
   ]
  },
  {
   "cell_type": "code",
   "execution_count": 60,
   "metadata": {},
   "outputs": [],
   "source": [
    "with open(\"schedule.json\", \"w\") as fp:\n",
    "    json.dump(expanded, fp, indent=2)\n"
   ]
  },
  {
   "cell_type": "code",
   "execution_count": 64,
   "metadata": {},
   "outputs": [
    {
     "name": "stdout",
     "output_type": "stream",
     "text": [
      "www.9-11commission.gov\n",
      "access.afsc.noaa.gov\n",
      "wcc.sc.egov.usda.gov\n",
      "webforms.fec.gov\n",
      "my.goarmy.com\n",
      "devicepki.idmanagement.gov\n",
      "carto.nwave.noaa.gov\n",
      "ghrc.nsstc.nasa.gov\n",
      "gravelocator.cem.va.gov\n",
      "vaonce.vba.va.gov\n",
      "www.gibill.va.gov\n",
      "www.spc.noaa.gov\n",
      "tcvs.fiscal.treasury.gov\n",
      "www.pay.va.gov\n",
      "nowcoast.noaa.gov\n",
      "civilrights.justice.gov\n",
      "healthyeating.nhlbi.nih.gov\n",
      "cameochemicals.noaa.gov\n",
      "inquiry.vba.va.gov\n",
      "media.ca7.uscourts.gov\n",
      "www.section508.va.gov\n",
      "cameo.noaa.gov\n",
      "vrss.va.gov\n",
      "agile.18f.gov\n",
      "www.itap.gov\n",
      "betobaccofree.hhs.gov\n",
      "identityequitystudy.gsa.gov\n",
      "carve.ornl.gov\n",
      "ciflow.nssl.noaa.gov\n",
      "www.rcv.va.gov\n",
      "recycling.gsa.gov\n",
      "tailored.fedramp.gov\n",
      "www.cerc.research.va.gov\n",
      "www.cider.research.va.gov\n",
      "www.oedca.va.gov\n",
      "www.sci.va.gov\n",
      "www.vetcenter.va.gov\n",
      "www.brrc.research.va.gov\n",
      "inside.nssl.noaa.gov\n",
      "ccb.gov\n",
      "cwcaribbean.aoml.noaa.gov\n",
      "modis.ornl.gov\n",
      "situationroom.archives.gov\n",
      "www.ehrm.va.gov\n",
      "www.obesityresearch.nih.gov\n",
      "10millionpatents.uspto.gov\n",
      "benefits-tool.usa.gov\n",
      "c3rs.arc.nasa.gov\n",
      "standards.digital.gov\n",
      "charts.noaa.gov\n"
     ]
    }
   ],
   "source": [
    "fifty = schedule[\"weekly\"][:50]\n",
    "for u in fifty:\n",
    "  print(u)"
   ]
  },
  {
   "cell_type": "code",
   "execution_count": null,
   "metadata": {},
   "outputs": [],
   "source": []
  }
 ],
 "metadata": {
  "kernelspec": {
   "display_name": "Python 3",
   "language": "python",
   "name": "python3"
  },
  "language_info": {
   "codemirror_mode": {
    "name": "ipython",
    "version": 3
   },
   "file_extension": ".py",
   "mimetype": "text/x-python",
   "name": "python",
   "nbconvert_exporter": "python",
   "pygments_lexer": "ipython3",
   "version": "3.10.12"
  }
 },
 "nbformat": 4,
 "nbformat_minor": 2
}
